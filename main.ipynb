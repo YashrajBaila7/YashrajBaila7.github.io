{
 "cells": [
  {
   "cell_type": "code",
   "execution_count": 1,
   "metadata": {},
   "outputs": [],
   "source": [
    "import bpe\n",
    "import torch\n",
    "from GPT2LM import gpt2"
   ]
  },
  {
   "cell_type": "code",
   "execution_count": 2,
   "metadata": {},
   "outputs": [],
   "source": [
    "text=gpt2.load_text(\"structured_data.txt\")"
   ]
  },
  {
   "cell_type": "code",
   "execution_count": 3,
   "metadata": {},
   "outputs": [
    {
     "data": {
      "text/plain": [
       "71"
      ]
     },
     "execution_count": 3,
     "metadata": {},
     "output_type": "execute_result"
    }
   ],
   "source": [
    "block_size = 124\n",
    "unique=bpe.count_unique_characters(\"structured_data.txt\")\n",
    "unique"
   ]
  },
  {
   "cell_type": "code",
   "execution_count": 4,
   "metadata": {},
   "outputs": [
    {
     "name": "stdout",
     "output_type": "stream",
     "text": [
      "Data has 156183 characters, 71 unique.\n"
     ]
    }
   ],
   "source": [
    "dataset=bpe.BPEDataset(text, block_size,\"./OUT\")"
   ]
  },
  {
   "cell_type": "code",
   "execution_count": 5,
   "metadata": {},
   "outputs": [
    {
     "name": "stdout",
     "output_type": "stream",
     "text": [
      "Merging (48, 61) into a new token 71\n",
      "Merging (17, 70) into a new token 72\n",
      "Merging (70, 18) into a new token 73\n",
      "Merging (44, 57) into a new token 74\n",
      "Merging (44, 61) into a new token 75\n",
      "Merging (48, 57) into a new token 76\n",
      "Merging (48, 1) into a new token 77\n",
      "Merging (62, 1) into a new token 78\n",
      "Merging (71, 68) into a new token 79\n",
      "Merging (62, 66) into a new token 80\n",
      "Merging (64, 79) into a new token 81\n",
      "Merging (80, 71) into a new token 82\n",
      "Merging (62, 63) into a new token 83\n",
      "Merging (75, 63) into a new token 84\n",
      "Merging (76, 47) into a new token 85\n",
      "Merging (72, 83) into a new token 86\n",
      "Merging (86, 84) into a new token 87\n",
      "Merging (87, 43) into a new token 88\n",
      "Merging (60, 81) into a new token 89\n",
      "Merging (89, 73) into a new token 90\n",
      "Merging (16, 1) into a new token 91\n",
      "Merging (1, 72) into a new token 92\n",
      "Merging (92, 85) into a new token 93\n",
      "Merging (93, 43) into a new token 94\n",
      "Merging (74, 82) into a new token 95\n",
      "Merging (95, 73) into a new token 96\n",
      "Merging (0, 88) into a new token 97\n",
      "Merging (52, 57) into a new token 98\n",
      "Merging (47, 1) into a new token 99\n",
      "Merging (58, 61) into a new token 100\n",
      "Merging (58, 57) into a new token 101\n",
      "Merging (3, 1) into a new token 102\n",
      "Merging (63, 51) into a new token 103\n",
      "Merging (48, 62) into a new token 104\n",
      "Merging (63, 52) into a new token 105\n",
      "Merging (1, 20) into a new token 106\n",
      "Merging (90, 1) into a new token 107\n",
      "Merging (107, 33) into a new token 108\n",
      "Merging (108, 81) into a new token 109\n",
      "Merging (109, 91) into a new token 110\n",
      "Merging (19, 94) into a new token 111\n",
      "Merging (111, 90) into a new token 112\n",
      "Merging (112, 97) into a new token 113\n",
      "Merging (113, 96) into a new token 114\n",
      "Merging (114, 106) into a new token 115\n",
      "Merging (115, 57) into a new token 116\n",
      "Merging (116, 82) into a new token 117\n",
      "Merging (117, 91) into a new token 118\n",
      "Merging (5, 94) into a new token 119\n",
      "Merging (119, 96) into a new token 120\n",
      "Merging (120, 0) into a new token 121\n",
      "Merging (121, 97) into a new token 122\n",
      "Merging (122, 110) into a new token 123\n",
      "Merging (63, 1) into a new token 124\n",
      "Merging (44, 46) into a new token 125\n",
      "Merging (74, 99) into a new token 126\n",
      "Merging (55, 1) into a new token 127\n",
      "Merging (49, 100) into a new token 128\n",
      "Merging (58, 64) into a new token 129\n",
      "Merging (48, 78) into a new token 130\n",
      "Merging (68, 1) into a new token 131\n",
      "Merging (75, 77) into a new token 132\n",
      "Merging (76, 63) into a new token 133\n",
      "Merging (103, 77) into a new token 134\n",
      "Merging (64, 47) into a new token 135\n",
      "Merging (128, 1) into a new token 136\n",
      "Merging (61, 48) into a new token 137\n",
      "Merging (51, 58) into a new token 138\n",
      "Merging (105, 101) into a new token 139\n",
      "Merging (98, 50) into a new token 140\n",
      "Merging (52, 59) into a new token 141\n",
      "Merging (48, 56) into a new token 142\n",
      "Merging (44, 56) into a new token 143\n",
      "Merging (52, 46) into a new token 144\n",
      "Merging (61, 58) into a new token 145\n",
      "Merging (55, 44) into a new token 146\n",
      "Merging (62, 118) into a new token 147\n",
      "Merging (44, 127) into a new token 148\n",
      "Merging (1, 46) into a new token 149\n",
      "Merging (64, 55) into a new token 150\n",
      "Merging (62, 123) into a new token 151\n",
      "Merging (48, 99) into a new token 152\n",
      "Merging (62, 102) into a new token 153\n",
      "Merging (104, 102) into a new token 154\n",
      "Merging (64, 61) into a new token 155\n",
      "Merging (140, 1) into a new token 156\n",
      "Merging (51, 44) into a new token 157\n",
      "Merging (62, 51) into a new token 158\n",
      "Merging (55, 48) into a new token 159\n",
      "Merging (83, 135) into a new token 160\n",
      "Merging (55, 52) into a new token 161\n",
      "Merging (63, 71) into a new token 162\n",
      "Merging (44, 52) into a new token 163\n",
      "Merging (158, 141) into a new token 164\n",
      "Merging (59, 100) into a new token 165\n",
      "Merging (103, 71) into a new token 166\n",
      "Merging (58, 56) into a new token 167\n",
      "Merging (62, 52) into a new token 168\n",
      "Merging (59, 64) into a new token 169\n",
      "Merging (44, 139) into a new token 170\n",
      "Merging (44, 63) into a new token 171\n",
      "Merging (166, 77) into a new token 172\n",
      "Merging (65, 52) into a new token 173\n",
      "Merging (74, 1) into a new token 174\n",
      "Merging (44, 47) into a new token 175\n",
      "Merging (59, 55) into a new token 176\n",
      "Merging (157, 124) into a new token 177\n",
      "Merging (133, 78) into a new token 178\n",
      "Merging (63, 58) into a new token 179\n",
      "Merging (48, 55) into a new token 180\n",
      "Merging (146, 45) into a new token 181\n",
      "Merging (165, 63) into a new token 182\n",
      "Merging (98, 1) into a new token 183\n",
      "Merging (61, 77) into a new token 184\n",
      "Merging (143, 169) into a new token 185\n",
      "Merging (62, 46) into a new token 186\n",
      "Merging (44, 65) into a new token 187\n",
      "Merging (187, 163) into a new token 188\n",
      "Merging (188, 181) into a new token 189\n",
      "Merging (59, 145) into a new token 190\n",
      "Merging (76, 124) into a new token 191\n",
      "Merging (77, 46) into a new token 192\n",
      "Merging (20, 184) into a new token 193\n",
      "Merging (44, 55) into a new token 194\n",
      "Merging (129, 61) into a new token 195\n",
      "Merging (41, 154) into a new token 196\n",
      "Merging (52, 63) into a new token 197\n",
      "Merging (101, 1) into a new token 198\n",
      "Merging (74, 46) into a new token 199\n",
      "Merging (59, 71) into a new token 200\n",
      "Merging (150, 63) into a new token 201\n",
      "Merging (48, 46) into a new token 202\n",
      "Merging (78, 132) into a new token 203\n",
      "Merging (55, 77) into a new token 204\n",
      "Merging (179, 1) into a new token 205\n",
      "Merging (39, 177) into a new token 206\n",
      "Merging (138, 83) into a new token 207\n",
      "Merging (55, 64) into a new token 208\n",
      "Merging (50, 61) into a new token 209\n",
      "Merging (185, 78) into a new token 210\n",
      "Merging (138, 55) into a new token 211\n",
      "Merging (58, 59) into a new token 212\n",
      "Merging (98, 162) into a new token 213\n",
      "Merging (48, 47) into a new token 214\n",
      "Merging (211, 75) into a new token 215\n",
      "Merging (62, 182) into a new token 216\n",
      "Merging (50, 51) into a new token 217\n",
      "Merging (66, 52) into a new token 218\n",
      "Merging (218, 103) into a new token 219\n",
      "Merging (58, 49) into a new token 220\n",
      "Merging (78, 136) into a new token 221\n",
      "Merging (186, 215) into a new token 222\n",
      "Merging (193, 172) into a new token 223\n",
      "Merging (160, 178) into a new token 224\n",
      "Merging (104, 123) into a new token 225\n",
      "Merging (44, 1) into a new token 226\n",
      "Merging (216, 78) into a new token 227\n",
      "Merging (56, 1) into a new token 228\n",
      "Merging (48, 127) into a new token 229\n",
      "Merging (48, 67) into a new token 230\n",
      "Merging (49, 125) into a new token 231\n",
      "Merging (130, 132) into a new token 232\n",
      "Merging (195, 62) into a new token 233\n",
      "Merging (58, 46) into a new token 234\n",
      "Merging (219, 1) into a new token 235\n",
      "Merging (64, 52) into a new token 236\n",
      "Merging (44, 62) into a new token 237\n",
      "Merging (102, 126) into a new token 238\n",
      "Merging (176, 125) into a new token 239\n",
      "Merging (153, 126) into a new token 240\n",
      "Merging (46, 167) into a new token 241\n",
      "Merging (189, 204) into a new token 242\n",
      "Merging (222, 164) into a new token 243\n",
      "Merging (208, 45) into a new token 244\n",
      "Merging (57, 52) into a new token 245\n",
      "Merging (44, 49) into a new token 246\n",
      "Merging (144, 1) into a new token 247\n",
      "Merging (239, 142) into a new token 248\n",
      "Merging (98, 46) into a new token 249\n",
      "Merging (249, 55) into a new token 250\n",
      "Merging (250, 135) into a new token 251\n",
      "Merging (55, 98) into a new token 252\n",
      "Merging (128, 56) into a new token 253\n",
      "Merging (61, 104) into a new token 254\n",
      "Merging (59, 84) into a new token 255\n",
      "Merging (66, 1) into a new token 256\n",
      "Merging (118, 196) into a new token 257\n",
      "Merging (104, 78) into a new token 258\n",
      "Merging (207, 229) into a new token 259\n",
      "Merging (36, 51) into a new token 260\n",
      "Merging (134, 46) into a new token 261\n",
      "Merging (56, 52) into a new token 262\n",
      "Merging (78, 126) into a new token 263\n",
      "Merging (58, 55) into a new token 264\n",
      "Merging (52, 78) into a new token 265\n",
      "Merging (168, 101) into a new token 266\n",
      "Merging (125, 175) into a new token 267\n",
      "Merging (267, 142) into a new token 268\n",
      "Merging (268, 247) into a new token 269\n",
      "Merging (27, 78) into a new token 270\n",
      "Merging (220, 49) into a new token 271\n",
      "Merging (62, 64) into a new token 272\n",
      "Merging (26, 58) into a new token 273\n",
      "Merging (44, 59) into a new token 274\n",
      "Merging (147, 196) into a new token 275\n",
      "Merging (189, 159) into a new token 276\n",
      "Merging (213, 57) into a new token 277\n",
      "Merging (21, 174) into a new token 278\n",
      "Merging (137, 46) into a new token 279\n",
      "Merging (62, 48) into a new token 280\n",
      "Merging (63, 61) into a new token 281\n",
      "Merging (270, 172) into a new token 282\n",
      "Merging (48, 65) into a new token 283\n",
      "Merging (48, 83) into a new token 284\n",
      "Merging (262, 62) into a new token 285\n",
      "Merging (64, 56) into a new token 286\n",
      "Merging (58, 58) into a new token 287\n",
      "Merging (241, 56) into a new token 288\n",
      "Merging (131, 136) into a new token 289\n",
      "Merging (1, 49) into a new token 290\n",
      "Merging (68, 102) into a new token 291\n",
      "Merging (260, 77) into a new token 292\n",
      "Merging (66, 75) into a new token 293\n",
      "Merging (45, 237) into a new token 294\n",
      "Merging (48, 63) into a new token 295\n",
      "Merging (101, 252) into a new token 296\n",
      "Merging (200, 253) into a new token 297\n",
      "Merging (75, 52) into a new token 298\n",
      "Merging (71, 78) into a new token 299\n",
      "Merging (48, 50) into a new token 300\n",
      "Merging (71, 1) into a new token 301\n",
      "Merging (175, 285) into a new token 302\n",
      "Merging (45, 61) into a new token 303\n",
      "Merging (231, 201) into a new token 304\n",
      "Merging (248, 191) into a new token 305\n",
      "Merging (64, 62) into a new token 306\n",
      "Merging (170, 148) into a new token 307\n",
      "Merging (51, 1) into a new token 308\n",
      "Merging (44, 98) into a new token 309\n",
      "Merging (27, 1) into a new token 310\n",
      "Merging (123, 206) into a new token 311\n",
      "Merging (132, 134) into a new token 312\n",
      "Merging (160, 191) into a new token 313\n",
      "Merging (171, 77) into a new token 314\n",
      "Merging (129, 1) into a new token 315\n",
      "Merging (199, 77) into a new token 316\n",
      "Merging (57, 48) into a new token 317\n",
      "Merging (201, 155) into a new token 318\n",
      "Merging (131, 56) into a new token 319\n",
      "Merging (65, 77) into a new token 320\n",
      "Merging (150, 75) into a new token 321\n",
      "Merging (63, 48) into a new token 322\n",
      "Merging (264, 159) into a new token 323\n",
      "Merging (323, 50) into a new token 324\n",
      "Merging (61, 144) into a new token 325\n",
      "Merging (154, 126) into a new token 326\n",
      "Merging (47, 155) into a new token 327\n",
      "Merging (100, 1) into a new token 328\n",
      "Merging (152, 198) into a new token 329\n",
      "Merging (44, 50) into a new token 330\n",
      "Merging (48, 75) into a new token 331\n",
      "Merging (76, 46) into a new token 332\n",
      "Merging (105, 56) into a new token 333\n",
      "Merging (58, 47) into a new token 334\n",
      "Merging (46, 174) into a new token 335\n",
      "Merging (61, 52) into a new token 336\n",
      "Merging (66, 177) into a new token 337\n",
      "Merging (151, 206) into a new token 338\n",
      "Merging (63, 202) into a new token 339\n",
      "Merging (57, 47) into a new token 340\n",
      "Merging (207, 180) into a new token 341\n",
      "Merging (50, 52) into a new token 342\n",
      "Merging (68, 315) into a new token 343\n",
      "Merging (60, 236) into a new token 344\n",
      "Merging (57, 64) into a new token 345\n",
      "Merging (46, 318) into a new token 346\n",
      "Merging (125, 105) into a new token 347\n",
      "Merging (48, 44) into a new token 348\n",
      "Merging (101, 149) into a new token 349\n",
      "Merging (209, 129) into a new token 350\n",
      "Merging (149, 244) into a new token 351\n",
      "Merging (142, 45) into a new token 352\n",
      "Merging (296, 192) into a new token 353\n",
      "Merging (105, 130) into a new token 354\n",
      "Merging (103, 61) into a new token 355\n",
      "Merging (355, 129) into a new token 356\n",
      "Merging (356, 217) into a new token 357\n",
      "Merging (327, 156) into a new token 358\n",
      "Merging (151, 223) into a new token 359\n",
      "Merging (190, 209) into a new token 360\n",
      "Merging (360, 143) into a new token 361\n",
      "Merging (349, 185) into a new token 362\n",
      "Merging (164, 1) into a new token 363\n",
      "Merging (212, 139) into a new token 364\n",
      "Merging (58, 1) into a new token 365\n",
      "Merging (124, 136) into a new token 366\n",
      "Merging (161, 303) into a new token 367\n",
      "Merging (367, 75) into a new token 368\n",
      "Merging (159, 46) into a new token 369\n",
      "Merging (190, 173) into a new token 370\n",
      "Merging (370, 47) into a new token 371\n",
      "Merging (62, 71) into a new token 372\n",
      "Merging (372, 65) into a new token 373\n",
      "Merging (46, 210) into a new token 374\n",
      "Merging (47, 52) into a new token 375\n",
      "Merging (52, 161) into a new token 376\n",
      "Merging (276, 118) into a new token 377\n",
      "Merging (123, 273) into a new token 378\n",
      "Merging (104, 118) into a new token 379\n",
      "Merging (63, 180) into a new token 380\n",
      "Merging (133, 147) into a new token 381\n",
      "Merging (77, 337) into a new token 382\n",
      "Merging (134, 302) into a new token 383\n",
      "Merging (46, 104) into a new token 384\n",
      "Merging (293, 47) into a new token 385\n",
      "Merging (129, 55) into a new token 386\n",
      "Merging (386, 99) into a new token 387\n",
      "Merging (294, 329) into a new token 388\n",
      "Merging (129, 78) into a new token 389\n",
      "Merging (346, 148) into a new token 390\n",
      "Merging (347, 173) into a new token 391\n",
      "Merging (59, 48) into a new token 392\n",
      "Merging (98, 47) into a new token 393\n",
      "Merging (324, 77) into a new token 394\n",
      "Merging (104, 266) into a new token 395\n",
      "Merging (58, 208) into a new token 396\n",
      "Merging (49, 287) into a new token 397\n",
      "Merging (48, 124) into a new token 398\n",
      "Merging (45, 204) into a new token 399\n",
      "Merging (145, 228) into a new token 400\n",
      "Merging (29, 1) into a new token 401\n",
      "Merging (50, 68) into a new token 402\n",
      "Merging (319, 352) into a new token 403\n",
      "Merging (353, 233) into a new token 404\n",
      "Merging (151, 193) into a new token 405\n",
      "Merging (199, 48) into a new token 406\n",
      "Merging (194, 127) into a new token 407\n",
      "Merging (53, 58) into a new token 408\n",
      "Merging (246, 162) into a new token 409\n",
      "Merging (47, 171) into a new token 410\n",
      "Merging (74, 52) into a new token 411\n",
      "Merging (274, 176) into a new token 412\n",
      "Merging (56, 48) into a new token 413\n",
      "Merging (105, 232) into a new token 414\n",
      "Merging (278, 224) into a new token 415\n",
      "Merging (362, 147) into a new token 416\n",
      "Merging (339, 51) into a new token 417\n",
      "Merging (170, 1) into a new token 418\n",
      "Merging (101, 4) into a new token 419\n",
      "Merging (214, 102) into a new token 420\n",
      "Merging (161, 54) into a new token 421\n",
      "Merging (279, 137) into a new token 422\n",
      "Merging (168, 198) into a new token 423\n",
      "Merging (280, 59) into a new token 424\n",
      "Merging (424, 75) into a new token 425\n",
      "Merging (210, 157) into a new token 426\n",
      "Merging (130, 126) into a new token 427\n",
      "Merging (333, 140) into a new token 428\n",
      "Merging (56, 133) into a new token 429\n",
      "Merging (133, 61) into a new token 430\n",
      "Merging (430, 316) into a new token 431\n",
      "Merging (431, 230) into a new token 432\n",
      "Merging (432, 143) into a new token 433\n",
      "Merging (48, 66) into a new token 434\n",
      "Merging (137, 344) into a new token 435\n",
      "Merging (178, 132) into a new token 436\n",
      "Merging (151, 282) into a new token 437\n",
      "Merging (272, 59) into a new token 438\n",
      "Merging (438, 165) into a new token 439\n",
      "Merging (243, 203) into a new token 440\n",
      "Merging (214, 118) into a new token 441\n",
      "Merging (74, 345) into a new token 442\n",
      "Merging (65, 298) into a new token 443\n",
      "Merging (443, 389) into a new token 444\n",
      "Merging (46, 244) into a new token 445\n",
      "Merging (75, 348) into a new token 446\n",
      "Merging (46, 101) into a new token 447\n",
      "Merging (350, 59) into a new token 448\n",
      "Merging (245, 217) into a new token 449\n",
      "Merging (65, 300) into a new token 450\n",
      "Merging (450, 295) into a new token 451\n",
      "Merging (451, 298) into a new token 452\n",
      "Merging (452, 174) into a new token 453\n",
      "Merging (242, 183) into a new token 454\n",
      "Merging (197, 57) into a new token 455\n",
      "Merging (455, 258) into a new token 456\n",
      "Merging (351, 78) into a new token 457\n",
      "Merging (45, 131) into a new token 458\n",
      "Merging (255, 144) into a new token 459\n",
      "Merging (459, 141) into a new token 460\n",
      "Merging (63, 135) into a new token 461\n",
      "Merging (62, 395) into a new token 462\n",
      "Merging (402, 228) into a new token 463\n",
      "Merging (281, 309) into a new token 464\n",
      "Merging (98, 57) into a new token 465\n",
      "Merging (155, 325) into a new token 466\n",
      "Merging (304, 403) into a new token 467\n",
      "Merging (83, 61) into a new token 468\n",
      "Merging (230, 200) into a new token 469\n",
      "Merging (49, 284) into a new token 470\n",
      "Merging (373, 144) into a new token 471\n",
      "Merging (412, 289) into a new token 472\n",
      "Merging (357, 1) into a new token 473\n",
      "Merging (182, 148) into a new token 474\n",
      "Merging (123, 223) into a new token 475\n",
      "Merging (46, 51) into a new token 476\n",
      "Merging (378, 256) into a new token 477\n",
      "Merging (149, 210) into a new token 478\n",
      "Merging (59, 1) into a new token 479\n",
      "Merging (137, 50) into a new token 480\n",
      "Merging (272, 45) into a new token 481\n",
      "Merging (62, 138) into a new token 482\n",
      "Merging (225, 223) into a new token 483\n",
      "Merging (47, 44) into a new token 484\n",
      "Merging (368, 131) into a new token 485\n",
      "Merging (45, 287) into a new token 486\n",
      "Merging (486, 54) into a new token 487\n",
      "Merging (254, 331) into a new token 488\n",
      "Merging (149, 167) into a new token 489\n",
      "Merging (52, 332) into a new token 490\n",
      "Merging (56, 74) into a new token 491\n",
      "Merging (231, 376) into a new token 492\n",
      "Merging (125, 288) into a new token 493\n",
      "Merging (493, 334) into a new token 494\n",
      "Merging (277, 307) into a new token 495\n",
      "Merging (49, 52) into a new token 496\n",
      "Merging (58, 50) into a new token 497\n",
      "Merging (251, 77) into a new token 498\n",
      "Merging (48, 102) into a new token 499\n",
      "Merging (277, 164) into a new token 500\n",
      "Merging (47, 104) into a new token 501\n",
      "Merging (336, 45) into a new token 502\n",
      "Merging (21, 387) into a new token 503\n",
      "Merging (503, 343) into a new token 504\n",
      "Merging (233, 130) into a new token 505\n",
      "Merging (71, 63) into a new token 506\n",
      "Merging (338, 312) into a new token 507\n",
      "Merging (27, 340) into a new token 508\n",
      "Merging (508, 48) into a new token 509\n",
      "Merging (509, 420) into a new token 510\n",
      "Merging (46, 258) into a new token 511\n",
      "Merging (68, 123) into a new token 512\n",
      "Merging (421, 77) into a new token 513\n",
      "Merging (292, 259) into a new token 514\n",
      "Merging (371, 130) into a new token 515\n",
      "Merging (145, 167) into a new token 516\n",
      "Merging (39, 52) into a new token 517\n",
      "Merging (517, 4) into a new token 518\n",
      "Merging (518, 24) into a new token 519\n",
      "Merging (519, 52) into a new token 520\n",
      "Merging (131, 471) into a new token 521\n",
      "Merging (134, 313) into a new token 522\n",
      "Merging (383, 423) into a new token 523\n",
      "Merging (523, 190) into a new token 524\n",
      "Merging (524, 384) into a new token 525\n",
      "Merging (425, 314) into a new token 526\n",
      "Merging (45, 58) into a new token 527\n",
      "Merging (68, 263) into a new token 528\n",
      "Merging (426, 78) into a new token 529\n",
      "Merging (171, 152) into a new token 530\n",
      "Merging (428, 147) into a new token 531\n",
      "Merging (251, 192) into a new token 532\n",
      "Merging (49, 48) into a new token 533\n",
      "Merging (173, 168) into a new token 534\n",
      "Merging (62, 155) into a new token 535\n",
      "Merging (76, 173) into a new token 536\n",
      "Merging (536, 61) into a new token 537\n",
      "Merging (537, 101) into a new token 538\n",
      "Merging (56, 71) into a new token 539\n",
      "Merging (198, 134) into a new token 540\n",
      "Merging (74, 131) into a new token 541\n",
      "Merging (435, 137) into a new token 542\n",
      "Merging (361, 78) into a new token 543\n",
      "Merging (47, 234) into a new token 544\n",
      "Merging (544, 286) into a new token 545\n",
      "Merging (317, 214) into a new token 546\n",
      "Merging (51, 180) into a new token 547\n",
      "Merging (78, 271) into a new token 548\n",
      "Merging (124, 134) into a new token 549\n",
      "Merging (68, 331) into a new token 550\n",
      "Merging (162, 52) into a new token 551\n",
      "Merging (56, 197) into a new token 552\n",
      "Merging (446, 221) into a new token 553\n",
      "Merging (137, 146) into a new token 554\n",
      "Merging (554, 67) into a new token 555\n",
      "Merging (129, 57) into a new token 556\n",
      "Merging (422, 307) into a new token 557\n",
      "Merging (1, 126) into a new token 558\n",
      "Merging (62, 234) into a new token 559\n",
      "Merging (559, 52) into a new token 560\n",
      "Merging (48, 52) into a new token 561\n",
      "Merging (406, 238) into a new token 562\n",
      "Merging (56, 191) into a new token 563\n",
      "Merging (160, 131) into a new token 564\n",
      "Merging (78, 183) into a new token 565\n",
      "Merging (194, 78) into a new token 566\n",
      "Merging (157, 320) into a new token 567\n",
      "Merging (51, 52) into a new token 568\n",
      "Merging (200, 62) into a new token 569\n",
      "Merging (569, 101) into a new token 570\n",
      "Merging (442, 148) into a new token 571\n",
      "Merging (212, 321) into a new token 572\n",
      "Merging (4, 46) into a new token 573\n",
      "Merging (392, 105) into a new token 574\n",
      "Merging (574, 139) into a new token 575\n",
      "Merging (480, 321) into a new token 576\n",
      "Merging (460, 314) into a new token 577\n",
      "Merging (577, 183) into a new token 578\n",
      "Merging (35, 461) into a new token 579\n",
      "Merging (579, 178) into a new token 580\n",
      "Merging (146, 62) into a new token 581\n",
      "Merging (581, 62) into a new token 582\n",
      "Merging (20, 45) into a new token 583\n",
      "Merging (583, 62) into a new token 584\n",
      "Merging (584, 396) into a new token 585\n",
      "Merging (585, 380) into a new token 586\n",
      "Merging (586, 291) into a new token 587\n",
      "Merging (225, 282) into a new token 588\n",
      "Merging (297, 199) into a new token 589\n",
      "Merging (397, 99) into a new token 590\n",
      "Merging (22, 58) into a new token 591\n",
      "Merging (591, 130) into a new token 592\n",
      "Merging (592, 261) into a new token 593\n",
      "Merging (62, 57) into a new token 594\n",
      "Merging (594, 125) into a new token 595\n",
      "Merging (595, 54) into a new token 596\n",
      "Merging (146, 63) into a new token 597\n",
      "Merging (290, 400) into a new token 598\n",
      "Merging (106, 401) into a new token 599\n",
      "Merging (599, 205) into a new token 600\n",
      "Merging (1, 32) into a new token 601\n",
      "Merging (195, 57) into a new token 602\n",
      "Merging (290, 456) into a new token 603\n",
      "Merging (63, 152) into a new token 604\n",
      "Merging (44, 105) into a new token 605\n",
      "Merging (46, 180) into a new token 606\n",
      "Merging (489, 59) into a new token 607\n",
      "Merging (607, 411) into a new token 608\n",
      "Merging (608, 130) into a new token 609\n",
      "Merging (59, 137) into a new token 610\n",
      "Merging (44, 385) into a new token 611\n",
      "Merging (293, 99) into a new token 612\n",
      "Merging (465, 299) into a new token 613\n",
      "Merging (280, 369) into a new token 614\n",
      "Merging (68, 4) into a new token 615\n",
      "Merging (63, 76) into a new token 616\n",
      "Merging (467, 299) into a new token 617\n",
      "Merging (393, 64) into a new token 618\n",
      "Merging (618, 468) into a new token 619\n",
      "Merging (261, 466) into a new token 620\n",
      "Merging (620, 150) into a new token 621\n",
      "Merging (125, 308) into a new token 622\n",
      "Merging (273, 83) into a new token 623\n",
      "Merging (50, 236) into a new token 624\n",
      "Merging (624, 47) into a new token 625\n",
      "Merging (85, 156) into a new token 626\n",
      "Merging (276, 257) into a new token 627\n",
      "Merging (62, 202) into a new token 628\n",
      "Merging (47, 98) into a new token 629\n",
      "Merging (47, 365) into a new token 630\n",
      "Merging (630, 310) into a new token 631\n",
      "Merging (212, 182) into a new token 632\n",
      "Merging (632, 64) into a new token 633\n",
      "Merging (633, 245) into a new token 634\n",
      "Merging (125, 511) into a new token 635\n",
      "Merging (488, 46) into a new token 636\n",
      "Merging (636, 308) into a new token 637\n",
      "Merging (71, 164) into a new token 638\n",
      "Merging (142, 133) into a new token 639\n",
      "Merging (24, 125) into a new token 640\n",
      "Merging (63, 263) into a new token 641\n",
      "Merging (409, 1) into a new token 642\n",
      "Merging (494, 418) into a new token 643\n",
      "Merging (45, 306) into a new token 644\n",
      "Merging (644, 98) into a new token 645\n",
      "Merging (242, 136) into a new token 646\n",
      "Merging (118, 21) into a new token 647\n",
      "Merging (255, 4) into a new token 648\n",
      "Merging (648, 333) into a new token 649\n",
      "Merging (649, 77) into a new token 650\n",
      "Merging (131, 222) into a new token 651\n",
      "Merging (145, 55) into a new token 652\n",
      "Merging (375, 186) into a new token 653\n",
      "Merging (653, 141) into a new token 654\n",
      "Merging (654, 252) into a new token 655\n",
      "Merging (149, 174) into a new token 656\n",
      "Merging (504, 501) into a new token 657\n",
      "Merging (657, 46) into a new token 658\n",
      "Merging (658, 502) into a new token 659\n",
      "Merging (659, 382) into a new token 660\n",
      "Merging (104, 257) into a new token 661\n",
      "Merging (225, 206) into a new token 662\n",
      "Merging (506, 309) into a new token 663\n",
      "Merging (663, 55) into a new token 664\n",
      "Merging (664, 291) into a new token 665\n",
      "Merging (57, 58) into a new token 666\n",
      "Merging (278, 343) into a new token 667\n",
      "Merging (667, 380) into a new token 668\n",
      "Merging (668, 127) into a new token 669\n",
      "Merging (669, 56) into a new token 670\n",
      "Merging (670, 382) into a new token 671\n",
      "Merging (160, 381) into a new token 672\n",
      "Merging (288, 198) into a new token 673\n",
      "Merging (472, 259) into a new token 674\n",
      "Merging (170, 118) into a new token 675\n",
      "Merging (522, 474) into a new token 676\n",
      "Merging (358, 525) into a new token 677\n",
      "Merging (526, 341) into a new token 678\n",
      "Merging (678, 221) into a new token 679\n",
      "Merging (679, 527) into a new token 680\n",
      "Merging (680, 528) into a new token 681\n",
      "Merging (681, 342) into a new token 682\n",
      "Merging (682, 61) into a new token 683\n",
      "Merging (683, 55) into a new token 684\n",
      "Merging (48, 622) into a new token 685\n",
      "Merging (61, 150) into a new token 686\n",
      "Merging (98, 130) into a new token 687\n",
      "Merging (76, 535) into a new token 688\n",
      "Merging (226, 62) into a new token 689\n",
      "Merging (538, 429) into a new token 690\n",
      "Merging (213, 173) into a new token 691\n",
      "Merging (691, 434) into a new token 692\n",
      "Merging (692, 153) into a new token 693\n",
      "Merging (47, 48) into a new token 694\n",
      "Merging (62, 167) into a new token 695\n",
      "Merging (5, 1) into a new token 696\n",
      "Merging (54, 1) into a new token 697\n",
      "Merging (383, 266) into a new token 698\n",
      "Merging (295, 163) into a new token 699\n",
      "Merging (699, 55) into a new token 700\n",
      "Merging (317, 152) into a new token 701\n",
      "Merging (27, 22) into a new token 702\n",
      "Merging (69, 152) into a new token 703\n",
      "Merging (59, 138) into a new token 704\n",
      "Merging (704, 179) into a new token 705\n",
      "Merging (144, 77) into a new token 706\n",
      "Merging (439, 124) into a new token 707\n",
      "Merging (51, 195) into a new token 708\n",
      "Merging (441, 29) into a new token 709\n",
      "Merging (197, 4) into a new token 710\n",
      "Merging (238, 227) into a new token 711\n",
      "Merging (243, 78) into a new token 712\n",
      "Merging (128, 228) into a new token 713\n",
      "Merging (296, 77) into a new token 714\n",
      "Merging (542, 99) into a new token 715\n",
      "Merging (715, 545) into a new token 716\n",
      "Merging (716, 178) into a new token 717\n",
      "Merging (61, 76) into a new token 718\n",
      "Merging (718, 434) into a new token 719\n",
      "Merging (719, 152) into a new token 720\n",
      "Merging (118, 35) into a new token 721\n",
      "Merging (164, 203) into a new token 722\n",
      "Merging (55, 131) into a new token 723\n",
      "Merging (388, 269) into a new token 724\n",
      "Merging (297, 316) into a new token 725\n",
      "Merging (336, 551) into a new token 726\n",
      "Merging (726, 44) into a new token 727\n",
      "Merging (49, 98) into a new token 728\n",
      "Merging (99, 136) into a new token 729\n",
      "Merging (539, 52) into a new token 730\n",
      "Merging (730, 124) into a new token 731\n",
      "Merging (161, 49) into a new token 732\n",
      "Merging (732, 77) into a new token 733\n",
      "Merging (102, 235) into a new token 734\n",
      "Merging (153, 390) into a new token 735\n",
      "Merging (283, 133) into a new token 736\n",
      "Merging (391, 354) into a new token 737\n",
      "Merging (357, 129) into a new token 738\n",
      "Merging (738, 549) into a new token 739\n",
      "Merging (553, 224) into a new token 740\n",
      "Merging (740, 205) into a new token 741\n",
      "Merging (741, 555) into a new token 742\n",
      "Merging (172, 132) into a new token 743\n",
      "Merging (75, 47) into a new token 744\n",
      "Merging (44, 161) into a new token 745\n",
      "Merging (416, 260) into a new token 746\n",
      "Merging (746, 192) into a new token 747\n",
      "Merging (747, 529) into a new token 748\n",
      "Merging (36, 38) into a new token 749\n",
      "Merging (749, 1) into a new token 750\n",
      "Merging (254, 59) into a new token 751\n",
      "Merging (62, 77) into a new token 752\n",
      "Merging (100, 363) into a new token 753\n",
      "Merging (62, 76) into a new token 754\n",
      "Merging (265, 134) into a new token 755\n",
      "Merging (118, 514) into a new token 756\n",
      "Merging (271, 299) into a new token 757\n",
      "Merging (105, 320) into a new token 758\n",
      "Merging (557, 391) into a new token 759\n",
      "Merging (449, 63) into a new token 760\n",
      "Merging (281, 52) into a new token 761\n",
      "Merging (413, 566) into a new token 762\n",
      "Merging (453, 364) into a new token 763\n",
      "Merging (520, 1) into a new token 764\n",
      "Merging (454, 341) into a new token 765\n",
      "Merging (78, 567) into a new token 766\n",
      "Merging (568, 217) into a new token 767\n",
      "Merging (126, 570) into a new token 768\n",
      "Merging (768, 148) into a new token 769\n",
      "Merging (393, 58) into a new token 770\n",
      "Merging (770, 328) into a new token 771\n",
      "Merging (478, 445) into a new token 772\n",
      "Merging (58, 98) into a new token 773\n",
      "Merging (61, 1) into a new token 774\n",
      "Merging (50, 57) into a new token 775\n",
      "Merging (65, 192) into a new token 776\n",
      "Merging (59, 572) into a new token 777\n",
      "Merging (322, 143) into a new token 778\n",
      "Merging (213, 573) into a new token 779\n",
      "Merging (192, 167) into a new token 780\n",
      "Merging (780, 575) into a new token 781\n",
      "Merging (317, 66) into a new token 782\n",
      "Merging (458, 481) into a new token 783\n",
      "Merging (783, 552) into a new token 784\n",
      "Merging (784, 63) into a new token 785\n",
      "Merging (785, 156) into a new token 786\n",
      "Merging (556, 46) into a new token 787\n",
      "Merging (65, 194) into a new token 788\n",
      "Merging (105, 379) into a new token 789\n",
      "Merging (76, 50) into a new token 790\n",
      "Merging (790, 330) into a new token 791\n",
      "Merging (791, 77) into a new token 792\n",
      "Merging (792, 183) into a new token 793\n",
      "Merging (55, 234) into a new token 794\n",
      "Merging (794, 148) into a new token 795\n",
      "Merging (281, 125) into a new token 796\n",
      "Merging (283, 76) into a new token 797\n",
      "Merging (797, 156) into a new token 798\n",
      "Merging (798, 227) into a new token 799\n",
      "Merging (799, 462) into a new token 800\n",
      "Merging (547, 99) into a new token 801\n",
      "Merging (350, 340) into a new token 802\n",
      "Merging (397, 63) into a new token 803\n",
      "Merging (803, 45) into a new token 804\n",
      "Merging (804, 407) into a new token 805\n",
      "Merging (325, 54) into a new token 806\n",
      "Merging (806, 398) into a new token 807\n",
      "Merging (297, 156) into a new token 808\n",
      "Merging (56, 306) into a new token 809\n",
      "Merging (396, 57) into a new token 810\n",
      "Merging (810, 322) into a new token 811\n",
      "Merging (811, 301) into a new token 812\n",
      "Merging (148, 46) into a new token 813\n",
      "Merging (288, 64) into a new token 814\n",
      "Merging (814, 57) into a new token 815\n",
      "Merging (815, 197) into a new token 816\n",
      "Merging (816, 521) into a new token 817\n",
      "Merging (590, 364) into a new token 818\n",
      "Merging (203, 242) into a new token 819\n",
      "Merging (56, 150) into a new token 820\n",
      "Merging (820, 105) into a new token 821\n",
      "Merging (821, 176) into a new token 822\n",
      "Merging (822, 77) into a new token 823\n",
      "Merging (46, 195) into a new token 824\n",
      "Merging (824, 63) into a new token 825\n",
      "Merging (156, 375) into a new token 826\n",
      "Merging (826, 65) into a new token 827\n",
      "Merging (827, 71) into a new token 828\n",
      "Merging (44, 124) into a new token 829\n",
      "Merging (161, 217) into a new token 830\n",
      "Merging (49, 202) into a new token 831\n",
      "Merging (125, 384) into a new token 832\n",
      "Merging (832, 168) into a new token 833\n",
      "Merging (833, 399) into a new token 834\n",
      "Merging (531, 292) into a new token 835\n",
      "Merging (265, 212) into a new token 836\n",
      "Merging (836, 76) into a new token 837\n",
      "Merging (837, 598) into a new token 838\n",
      "Merging (601, 401) into a new token 839\n",
      "Merging (839, 198) into a new token 840\n",
      "Merging (840, 66) into a new token 841\n",
      "Merging (841, 48) into a new token 842\n",
      "Merging (842, 48) into a new token 843\n",
      "Merging (843, 54) into a new token 844\n",
      "Merging (45, 100) into a new token 845\n",
      "Merging (845, 145) into a new token 846\n",
      "Merging (846, 256) into a new token 847\n",
      "Merging (847, 487) into a new token 848\n",
      "Merging (848, 78) into a new token 849\n",
      "Merging (49, 400) into a new token 850\n",
      "Merging (134, 368) into a new token 851\n",
      "Merging (123, 193) into a new token 852\n",
      "Merging (635, 205) into a new token 853\n",
      "Merging (48, 4) into a new token 854\n",
      "Merging (53, 602) into a new token 855\n",
      "Merging (855, 194) into a new token 856\n",
      "Merging (344, 398) into a new token 857\n",
      "Merging (48, 60) into a new token 858\n",
      "Merging (858, 64) into a new token 859\n",
      "Merging (859, 141) into a new token 860\n",
      "Merging (448, 603) into a new token 861\n",
      "Merging (861, 46) into a new token 862\n",
      "Merging (862, 582) into a new token 863\n",
      "Merging (44, 102) into a new token 864\n",
      "Merging (22, 365) into a new token 865\n",
      "Merging (71, 363) into a new token 866\n",
      "Merging (292, 305) into a new token 867\n",
      "Merging (867, 606) into a new token 868\n",
      "Merging (868, 127) into a new token 869\n",
      "Merging (169, 45) into a new token 870\n",
      "Merging (870, 161) into a new token 871\n",
      "Merging (871, 158) into a new token 872\n",
      "Merging (482, 66) into a new token 873\n",
      "Merging (179, 479) into a new token 874\n",
      "Merging (534, 366) into a new token 875\n",
      "Merging (248, 381) into a new token 876\n",
      "Merging (447, 62) into a new token 877\n",
      "Merging (877, 201) into a new token 878\n",
      "Merging (610, 4) into a new token 879\n",
      "Merging (879, 305) into a new token 880\n",
      "Merging (880, 464) into a new token 881\n",
      "Merging (251, 130) into a new token 882\n",
      "Merging (137, 342) into a new token 883\n",
      "Merging (83, 301) into a new token 884\n",
      "Merging (49, 71) into a new token 885\n",
      "Merging (159, 175) into a new token 886\n",
      "Merging (44, 612) into a new token 887\n",
      "Merging (47, 153) into a new token 888\n",
      "Merging (101, 65) into a new token 889\n",
      "Merging (889, 234) into a new token 890\n",
      "Merging (890, 170) into a new token 891\n",
      "Merging (891, 149) into a new token 892\n",
      "Merging (892, 71) into a new token 893\n",
      "Merging (893, 142) into a new token 894\n",
      "Merging (894, 101) into a new token 895\n",
      "Merging (59, 254) into a new token 896\n",
      "Merging (209, 175) into a new token 897\n",
      "Merging (897, 64) into a new token 898\n",
      "Merging (304, 615) into a new token 899\n",
      "Merging (899, 313) into a new token 900\n",
      "Merging (900, 61) into a new token 901\n",
      "Merging (901, 605) into a new token 902\n",
      "Merging (469, 490) into a new token 903\n",
      "Merging (619, 131) into a new token 904\n",
      "Merging (227, 470) into a new token 905\n",
      "Merging (20, 57) into a new token 906\n",
      "Merging (98, 173) into a new token 907\n",
      "Merging (45, 300) into a new token 908\n",
      "Merging (908, 613) into a new token 909\n",
      "Merging (408, 183) into a new token 910\n",
      "Merging (50, 64) into a new token 911\n",
      "Merging (911, 284) into a new token 912\n",
      "Merging (912, 1) into a new token 913\n",
      "Merging (913, 369) into a new token 914\n",
      "Merging (914, 63) into a new token 915\n",
      "Merging (915, 155) into a new token 916\n",
      "Merging (470, 52) into a new token 917\n",
      "Merging (593, 394) into a new token 918\n",
      "Merging (271, 301) into a new token 919\n",
      "Merging (59, 597) into a new token 920\n",
      "Merging (920, 253) into a new token 921\n",
      "Merging (255, 1) into a new token 922\n",
      "Merging (922, 220) into a new token 923\n",
      "Merging (923, 1) into a new token 924\n",
      "Merging (924, 621) into a new token 925\n",
      "Merging (925, 286) into a new token 926\n",
      "Merging (404, 232) into a new token 927\n",
      "Merging (46, 137) into a new token 928\n",
      "Merging (928, 47) into a new token 929\n",
      "Merging (491, 410) into a new token 930\n",
      "Merging (930, 100) into a new token 931\n",
      "Merging (931, 289) into a new token 932\n",
      "Merging (656, 310) into a new token 933\n",
      "Merging (623, 229) into a new token 934\n",
      "Merging (52, 326) into a new token 935\n",
      "Merging (155, 77) into a new token 936\n",
      "Merging (152, 136) into a new token 937\n",
      "BPE training complete.\n"
     ]
    }
   ],
   "source": [
    "dataset.train_bpe(67 * 14)"
   ]
  },
  {
   "cell_type": "code",
   "execution_count": 6,
   "metadata": {},
   "outputs": [
    {
     "data": {
      "text/plain": [
       "938"
      ]
     },
     "execution_count": 6,
     "metadata": {},
     "output_type": "execute_result"
    }
   ],
   "source": [
    "dataset.vocab_size"
   ]
  },
  {
   "cell_type": "code",
   "execution_count": 7,
   "metadata": {},
   "outputs": [
    {
     "data": {
      "text/plain": [
       "132"
      ]
     },
     "execution_count": 7,
     "metadata": {},
     "output_type": "execute_result"
    }
   ],
   "source": [
    "sample=\"\"\"\n",
    "Query: Are internships mandatory for graduation?\n",
    "Answer: Internships are mandatory for certain programs as part of the curriculum.\n",
    "\"\"\"\n",
    "len(sample)"
   ]
  },
  {
   "cell_type": "code",
   "execution_count": 8,
   "metadata": {},
   "outputs": [
    {
     "data": {
      "text/plain": [
       "31"
      ]
     },
     "execution_count": 8,
     "metadata": {},
     "output_type": "execute_result"
    }
   ],
   "source": [
    "len(dataset._encode(sample))"
   ]
  },
  {
   "cell_type": "code",
   "execution_count": 7,
   "metadata": {},
   "outputs": [],
   "source": [
    "E_PATH=\"C:\\\\Users\\\\DeLL\\\\OneDrive\\\\Desktop\\\\WebApp\\\\OUT\\\\encoder.json\"\n",
    "M_PATH=\"C:\\\\Users\\\\DeLL\\\\OneDrive\\\\Desktop\\\\WebApp\\\\OUT\\\\merges.json\""
   ]
  },
  {
   "cell_type": "code",
   "execution_count": 8,
   "metadata": {},
   "outputs": [
    {
     "name": "stdout",
     "output_type": "stream",
     "text": [
      "Number of parameters: 0.93M\n"
     ]
    }
   ],
   "source": [
    "model_config = gpt2.GPT.get_default_config()\n",
    "model_config.model_type = 'gpt-micro' # more model typesare available, use `print_config()` to see all\n",
    "model_config.vocab_size = dataset.vocab_size\n",
    "model_config.block_size = block_size  \n",
    "model = gpt2.GPT(model_config)"
   ]
  },
  {
   "cell_type": "code",
   "execution_count": 9,
   "metadata": {},
   "outputs": [
    {
     "name": "stdout",
     "output_type": "stream",
     "text": [
      "Running on device cuda\n"
     ]
    },
    {
     "name": "stderr",
     "output_type": "stream",
     "text": [
      "Epoch 1/10: 100%|██████████| 1000/1000 [00:27<00:00, 35.84batch/s, loss=1.08]\n"
     ]
    },
    {
     "name": "stdout",
     "output_type": "stream",
     "text": [
      "Epoch 1/10 completed in 33.962979555130005 seconds. Loss: 1.076203395932913\n"
     ]
    },
    {
     "name": "stderr",
     "output_type": "stream",
     "text": [
      "Epoch 2/10: 100%|██████████| 1000/1000 [00:27<00:00, 35.98batch/s, loss=0.192]\n"
     ]
    },
    {
     "name": "stdout",
     "output_type": "stream",
     "text": [
      "Epoch 2/10 completed in 34.11508011817932 seconds. Loss: 0.19216050177812577\n"
     ]
    },
    {
     "name": "stderr",
     "output_type": "stream",
     "text": [
      "Epoch 3/10: 100%|██████████| 1000/1000 [00:27<00:00, 35.99batch/s, loss=0.119]\n"
     ]
    },
    {
     "name": "stdout",
     "output_type": "stream",
     "text": [
      "Epoch 3/10 completed in 34.167354106903076 seconds. Loss: 0.1187466712743044\n"
     ]
    },
    {
     "name": "stderr",
     "output_type": "stream",
     "text": [
      "Epoch 4/10: 100%|██████████| 1000/1000 [00:27<00:00, 36.19batch/s, loss=0.099]\n"
     ]
    },
    {
     "name": "stdout",
     "output_type": "stream",
     "text": [
      "Epoch 4/10 completed in 33.93749475479126 seconds. Loss: 0.09896266491711139\n"
     ]
    },
    {
     "name": "stderr",
     "output_type": "stream",
     "text": [
      "Epoch 5/10: 100%|██████████| 1000/1000 [00:27<00:00, 36.15batch/s, loss=0.0897]\n"
     ]
    },
    {
     "name": "stdout",
     "output_type": "stream",
     "text": [
      "Epoch 5/10 completed in 33.963871240615845 seconds. Loss: 0.08969485206156969\n"
     ]
    },
    {
     "name": "stderr",
     "output_type": "stream",
     "text": [
      "Epoch 6/10: 100%|██████████| 1000/1000 [00:27<00:00, 36.27batch/s, loss=0.0841]\n"
     ]
    },
    {
     "name": "stdout",
     "output_type": "stream",
     "text": [
      "Epoch 6/10 completed in 33.83006453514099 seconds. Loss: 0.0840778638496995\n"
     ]
    },
    {
     "name": "stderr",
     "output_type": "stream",
     "text": [
      "Epoch 7/10: 100%|██████████| 1000/1000 [00:27<00:00, 36.23batch/s, loss=0.0805]\n"
     ]
    },
    {
     "name": "stdout",
     "output_type": "stream",
     "text": [
      "Epoch 7/10 completed in 33.68828511238098 seconds. Loss: 0.08047007740288972\n"
     ]
    },
    {
     "name": "stderr",
     "output_type": "stream",
     "text": [
      "Epoch 8/10: 100%|██████████| 1000/1000 [00:27<00:00, 36.25batch/s, loss=0.078]\n"
     ]
    },
    {
     "name": "stdout",
     "output_type": "stream",
     "text": [
      "Epoch 8/10 completed in 34.068307638168335 seconds. Loss: 0.07799338926374912\n"
     ]
    },
    {
     "name": "stderr",
     "output_type": "stream",
     "text": [
      "Epoch 9/10: 100%|██████████| 1000/1000 [00:27<00:00, 36.22batch/s, loss=0.0759]\n"
     ]
    },
    {
     "name": "stdout",
     "output_type": "stream",
     "text": [
      "Epoch 9/10 completed in 33.89170503616333 seconds. Loss: 0.07593483737111091\n"
     ]
    },
    {
     "name": "stderr",
     "output_type": "stream",
     "text": [
      "Epoch 10/10: 100%|██████████| 1000/1000 [00:35<00:00, 27.92batch/s, loss=0.0744]\n"
     ]
    },
    {
     "name": "stdout",
     "output_type": "stream",
     "text": [
      "Epoch 10/10 completed in 42.008315324783325 seconds. Loss: 0.07436953599005938\n"
     ]
    }
   ],
   "source": [
    "train_config = gpt2.Trainer.get_default_config()\n",
    "train_config.learning_rate = 5e-4 \n",
    "train_config.max_iters = 1000 #iters per epoch\n",
    "train_config.batch_size = 64\n",
    "trainer = gpt2.Trainer(train_config, model, dataset)\n",
    "trainer.run(10) # number of epochs = 2"
   ]
  },
  {
   "cell_type": "code",
   "execution_count": 10,
   "metadata": {},
   "outputs": [],
   "source": [
    "finedataset=bpe.FinetuneDataset(text, E_PATH, M_PATH, block_size)"
   ]
  },
  {
   "cell_type": "code",
   "execution_count": 11,
   "metadata": {},
   "outputs": [
    {
     "name": "stdout",
     "output_type": "stream",
     "text": [
      "Running on device cuda\n"
     ]
    },
    {
     "name": "stderr",
     "output_type": "stream",
     "text": [
      "Epoch 1/10: 100%|██████████| 1000/1000 [00:27<00:00, 36.13batch/s, loss=0.788]\n"
     ]
    },
    {
     "name": "stdout",
     "output_type": "stream",
     "text": [
      "Epoch 1/10 completed in 33.709815979003906 seconds. Loss: 0.787654049411416\n"
     ]
    },
    {
     "name": "stderr",
     "output_type": "stream",
     "text": [
      "Epoch 2/10: 100%|██████████| 1000/1000 [00:27<00:00, 36.11batch/s, loss=0.0443]\n"
     ]
    },
    {
     "name": "stdout",
     "output_type": "stream",
     "text": [
      "Epoch 2/10 completed in 33.886650800704956 seconds. Loss: 0.04430796467512846\n"
     ]
    },
    {
     "name": "stderr",
     "output_type": "stream",
     "text": [
      "Epoch 3/10: 100%|██████████| 1000/1000 [00:27<00:00, 36.19batch/s, loss=0.0396]\n"
     ]
    },
    {
     "name": "stdout",
     "output_type": "stream",
     "text": [
      "Epoch 3/10 completed in 33.8935329914093 seconds. Loss: 0.039597613714635375\n"
     ]
    },
    {
     "name": "stderr",
     "output_type": "stream",
     "text": [
      "Epoch 4/10: 100%|██████████| 1000/1000 [00:27<00:00, 36.16batch/s, loss=0.0367]\n"
     ]
    },
    {
     "name": "stdout",
     "output_type": "stream",
     "text": [
      "Epoch 4/10 completed in 33.96472501754761 seconds. Loss: 0.0366748345978558\n"
     ]
    },
    {
     "name": "stderr",
     "output_type": "stream",
     "text": [
      "Epoch 5/10: 100%|██████████| 1000/1000 [00:27<00:00, 36.00batch/s, loss=0.0351]\n"
     ]
    },
    {
     "name": "stdout",
     "output_type": "stream",
     "text": [
      "Epoch 5/10 completed in 34.00894737243652 seconds. Loss: 0.035123667165637015\n"
     ]
    },
    {
     "name": "stderr",
     "output_type": "stream",
     "text": [
      "Epoch 6/10: 100%|██████████| 1000/1000 [00:27<00:00, 36.21batch/s, loss=0.034]\n"
     ]
    },
    {
     "name": "stdout",
     "output_type": "stream",
     "text": [
      "Epoch 6/10 completed in 33.94028043746948 seconds. Loss: 0.03396745680458844\n"
     ]
    },
    {
     "name": "stderr",
     "output_type": "stream",
     "text": [
      "Epoch 7/10: 100%|██████████| 1000/1000 [00:27<00:00, 36.15batch/s, loss=0.0332]\n"
     ]
    },
    {
     "name": "stdout",
     "output_type": "stream",
     "text": [
      "Epoch 7/10 completed in 33.917742013931274 seconds. Loss: 0.03315615477412939\n"
     ]
    },
    {
     "name": "stderr",
     "output_type": "stream",
     "text": [
      "Epoch 8/10: 100%|██████████| 1000/1000 [00:27<00:00, 36.10batch/s, loss=0.0326]\n"
     ]
    },
    {
     "name": "stdout",
     "output_type": "stream",
     "text": [
      "Epoch 8/10 completed in 34.0827214717865 seconds. Loss: 0.03263869853504002\n"
     ]
    },
    {
     "name": "stderr",
     "output_type": "stream",
     "text": [
      "Epoch 9/10: 100%|██████████| 1000/1000 [00:27<00:00, 36.26batch/s, loss=0.0325]\n"
     ]
    },
    {
     "name": "stdout",
     "output_type": "stream",
     "text": [
      "Epoch 9/10 completed in 33.86358880996704 seconds. Loss: 0.03245633628964424\n"
     ]
    },
    {
     "name": "stderr",
     "output_type": "stream",
     "text": [
      "Epoch 10/10: 100%|██████████| 1000/1000 [00:27<00:00, 36.21batch/s, loss=0.0321]\n"
     ]
    },
    {
     "name": "stdout",
     "output_type": "stream",
     "text": [
      "Epoch 10/10 completed in 33.770320892333984 seconds. Loss: 0.032113481936976315\n"
     ]
    }
   ],
   "source": [
    "train_config = gpt2.Trainer.get_default_config()\n",
    "train_config.learning_rate = 5e-4 #/ 100\n",
    "train_config.max_iters = 1000 #iters per epoch\n",
    "train_config.batch_size = 64\n",
    "trainer = gpt2.Trainer(train_config, model, finedataset)\n",
    "trainer.run(10) # number of epochs = 10"
   ]
  },
  {
   "cell_type": "code",
   "execution_count": 35,
   "metadata": {},
   "outputs": [
    {
     "name": "stdout",
     "output_type": "stream",
     "text": [
      "Running on device cuda\n"
     ]
    },
    {
     "name": "stderr",
     "output_type": "stream",
     "text": [
      "Epoch 1/10: 100%|██████████| 1000/1000 [00:27<00:00, 35.89batch/s, loss=0.0379]\n"
     ]
    },
    {
     "name": "stdout",
     "output_type": "stream",
     "text": [
      "Epoch 1/10 completed in 34.051605224609375 seconds. Loss: 0.0378774179276079\n"
     ]
    },
    {
     "name": "stderr",
     "output_type": "stream",
     "text": [
      "Epoch 2/10:  58%|█████▊    | 579/1000 [00:16<00:11, 35.76batch/s, loss=0.0363]\n"
     ]
    },
    {
     "ename": "KeyboardInterrupt",
     "evalue": "",
     "output_type": "error",
     "traceback": [
      "\u001b[1;31m---------------------------------------------------------------------------\u001b[0m",
      "\u001b[1;31mKeyboardInterrupt\u001b[0m                         Traceback (most recent call last)",
      "Cell \u001b[1;32mIn[35], line 6\u001b[0m\n\u001b[0;32m      4\u001b[0m train_config\u001b[38;5;241m.\u001b[39mbatch_size \u001b[38;5;241m=\u001b[39m \u001b[38;5;241m64\u001b[39m\n\u001b[0;32m      5\u001b[0m trainer \u001b[38;5;241m=\u001b[39m gpt2\u001b[38;5;241m.\u001b[39mTrainer(train_config, model, finedataset)\n\u001b[1;32m----> 6\u001b[0m \u001b[43mtrainer\u001b[49m\u001b[38;5;241;43m.\u001b[39;49m\u001b[43mrun\u001b[49m\u001b[43m(\u001b[49m\u001b[38;5;241;43m10\u001b[39;49m\u001b[43m)\u001b[49m \u001b[38;5;66;03m# number of epochs = 10\u001b[39;00m\n",
      "File \u001b[1;32md:\\Python\\Lib\\site-packages\\GPT2LM\\gpt2.py:1061\u001b[0m, in \u001b[0;36mTrainer.run\u001b[1;34m(self, num_epochs)\u001b[0m\n\u001b[0;32m   1058\u001b[0m \u001b[38;5;28mself\u001b[39m\u001b[38;5;241m.\u001b[39miter_dt \u001b[38;5;241m=\u001b[39m tnow \u001b[38;5;241m-\u001b[39m \u001b[38;5;28mself\u001b[39m\u001b[38;5;241m.\u001b[39miter_time\n\u001b[0;32m   1059\u001b[0m \u001b[38;5;28mself\u001b[39m\u001b[38;5;241m.\u001b[39miter_time \u001b[38;5;241m=\u001b[39m tnow\n\u001b[1;32m-> 1061\u001b[0m epoch_loss \u001b[38;5;241m+\u001b[39m\u001b[38;5;241m=\u001b[39m \u001b[38;5;28;43mself\u001b[39;49m\u001b[38;5;241;43m.\u001b[39;49m\u001b[43mloss\u001b[49m\u001b[38;5;241;43m.\u001b[39;49m\u001b[43mitem\u001b[49m\u001b[43m(\u001b[49m\u001b[43m)\u001b[49m\n\u001b[0;32m   1062\u001b[0m pbar\u001b[38;5;241m.\u001b[39mset_postfix({\u001b[38;5;124m'\u001b[39m\u001b[38;5;124mloss\u001b[39m\u001b[38;5;124m'\u001b[39m: epoch_loss \u001b[38;5;241m/\u001b[39m (pbar\u001b[38;5;241m.\u001b[39mn \u001b[38;5;241m+\u001b[39m \u001b[38;5;241m1\u001b[39m)})\n\u001b[0;32m   1063\u001b[0m pbar\u001b[38;5;241m.\u001b[39mupdate(\u001b[38;5;241m1\u001b[39m)\n",
      "\u001b[1;31mKeyboardInterrupt\u001b[0m: "
     ]
    }
   ],
   "source": [
    "train_config = gpt2.Trainer.get_default_config()\n",
    "train_config.learning_rate = 5e-4 / 100\n",
    "train_config.max_iters = 1000 #iters per epoch\n",
    "train_config.batch_size = 64\n",
    "trainer = gpt2.Trainer(train_config, model, finedataset)\n",
    "trainer.run(10) # number of epochs = 10"
   ]
  },
  {
   "cell_type": "code",
   "execution_count": 12,
   "metadata": {},
   "outputs": [],
   "source": [
    "gpt2.save(\"C:\\\\Users\\\\DeLL\\\\OneDrive\\\\Desktop\\\\WebApp\\\\OUT\\\\model.pt\", model)"
   ]
  },
  {
   "cell_type": "code",
   "execution_count": 24,
   "metadata": {},
   "outputs": [
    {
     "name": "stdout",
     "output_type": "stream",
     "text": [
      "Chat session started. Type 'exit' or 'quit' to end.\n",
      "Query: Are online courses part of the curriculum? \n",
      "\n",
      "Bot: The faculty-student ratio ensures personalized attention and effective mentorship.\n",
      "Exiting conversation.\n"
     ]
    }
   ],
   "source": [
    "\n",
    "# Set maximum generation length (adjust as needed)\n",
    "max_len = 50\n",
    "\n",
    "# Instantiate the Encoder and move the model to CUDA\n",
    "enc = bpe.Encoder(E_PATH, M_PATH)\n",
    "model.to('cuda')\n",
    "\n",
    "# Initialize conversation history as an empty string\n",
    "conversation_history = \"\"\n",
    "\n",
    "print(\"Chat session started. Type 'exit' or 'quit' to end.\")\n",
    "\n",
    "while True:\n",
    "    # Get user input\n",
    "    user_input = input(\"User: \")\n",
    "    if user_input.strip().lower() in ['exit', 'quit']:\n",
    "        print(\"Exiting conversation.\")\n",
    "        break\n",
    "\n",
    "    # Append the user's query with the structured tokens\n",
    "    conversation_history += f\"<|start_query|> Query: {user_input} <|end_query|>\\n\"\n",
    "    print(f\"Query: {user_input} \\n\")\n",
    "    \n",
    "    # Build the prompt by concatenating the conversation history and cue for the answer.\n",
    "    prompt = conversation_history + \"<|start_answer|> Answer: \"\n",
    "    \n",
    "    # Encode the prompt using the Encoder.\n",
    "    prompt_encoded = torch.tensor(enc.encode(prompt), dtype=torch.long, device='cuda').unsqueeze(0)\n",
    "    \n",
    "    # Generate a response from the model.\n",
    "    res = model.generate(prompt_encoded, max_len)\n",
    "    \n",
    "    # Decode the generated tokens back into text.\n",
    "    generated_text = enc.decode(res[0].tolist())\n",
    "    \n",
    "    # Extract the answer portion: start from the cue until the first occurrence of <|end_answer|>\n",
    "    answer_start = generated_text.find(\"<|start_answer|> Answer: \")\n",
    "    if answer_start != -1:\n",
    "        # Move past the answer cue.\n",
    "        answer_start += len(\"<|start_answer|> Answer: \")\n",
    "    else:\n",
    "        answer_start = len(prompt)\n",
    "    \n",
    "    # Find the end token position.\n",
    "    end_token_index = generated_text.find(\"<|end_answer|>\", answer_start)\n",
    "    if end_token_index == -1:\n",
    "        answer_text = generated_text[answer_start:].strip()\n",
    "    else:\n",
    "        answer_text = generated_text[answer_start:end_token_index].strip()\n",
    "    \n",
    "    # Print the bot's answer.\n",
    "    print(\"Bot:\", answer_text)\n",
    "    \n",
    "    # Append only the current turn's answer (up to <|end_answer|>) to the conversation history.\n",
    "    conversation_history += f\"<|start_answer|> Answer: {answer_text} <|end_answer|>\\n\"\n"
   ]
  },
  {
   "cell_type": "code",
   "execution_count": null,
   "metadata": {},
   "outputs": [],
   "source": [
    "print(1)"
   ]
  }
 ],
 "metadata": {
  "kernelspec": {
   "display_name": "Python 3",
   "language": "python",
   "name": "python3"
  },
  "language_info": {
   "codemirror_mode": {
    "name": "ipython",
    "version": 3
   },
   "file_extension": ".py",
   "mimetype": "text/x-python",
   "name": "python",
   "nbconvert_exporter": "python",
   "pygments_lexer": "ipython3",
   "version": "3.12.8"
  }
 },
 "nbformat": 4,
 "nbformat_minor": 2
}
